{
  "cells": [
    {
      "cell_type": "code",
      "execution_count": null,
      "metadata": {
        "id": "RKCbSONG8bpP"
      },
      "outputs": [],
      "source": [
        "import numpy as np\n",
        "import pandas as pd\n",
        "from sklearn.model_selection import train_test_split\n",
        "from sklearn.linear_model import LogisticRegression\n",
        "from sklearn.metrics import r2_score\n",
        "from sklearn.preprocessing import LabelEncoder\n",
        "from sklearn.ensemble import RandomForestRegressor"
      ]
    },
    {
      "cell_type": "code",
      "execution_count": null,
      "metadata": {
        "id": "64Avc5OW8dhv"
      },
      "outputs": [
        {
          "ename": "",
          "evalue": "",
          "output_type": "error",
          "traceback": [
            "\u001b[1;31mRunning cells with 'c:\\Users\\sound\\AppData\\Local\\Microsoft\\WindowsApps\\python3.12.exe' requires the ipykernel package.\n",
            "\u001b[1;31mRun the following command to install 'ipykernel' into the Python environment. \n",
            "\u001b[1;31mCommand: 'c:/Users/sound/AppData/Local/Microsoft/WindowsApps/python3.12.exe -m pip install ipykernel -U --user --force-reinstall'"
          ]
        }
      ],
      "source": [
        "data=pd.read_csv('/content/infectious-diseases-by-county-year-and-sex.csv')"
      ]
    },
    {
      "cell_type": "code",
      "execution_count": null,
      "metadata": {
        "colab": {
          "base_uri": "https://localhost:8080/",
          "height": 206
        },
        "id": "tP9wVLjX8owg",
        "outputId": "e49beaf7-199d-4207-9272-8f216f5eb7e0"
      },
      "outputs": [
        {
          "data": {
            "text/html": [
              "\n",
              "  <div id=\"df-bd5dbb8a-068f-4769-82a2-9249c6f5f05b\">\n",
              "    <div class=\"colab-df-container\">\n",
              "      <div>\n",
              "<style scoped>\n",
              "    .dataframe tbody tr th:only-of-type {\n",
              "        vertical-align: middle;\n",
              "    }\n",
              "\n",
              "    .dataframe tbody tr th {\n",
              "        vertical-align: top;\n",
              "    }\n",
              "\n",
              "    .dataframe thead th {\n",
              "        text-align: right;\n",
              "    }\n",
              "</style>\n",
              "<table border=\"1\" class=\"dataframe\">\n",
              "  <thead>\n",
              "    <tr style=\"text-align: right;\">\n",
              "      <th></th>\n",
              "      <th>Disease</th>\n",
              "      <th>County</th>\n",
              "      <th>Year</th>\n",
              "      <th>Sex</th>\n",
              "      <th>Cases</th>\n",
              "      <th>Population</th>\n",
              "      <th>Lower 95% CI</th>\n",
              "      <th>Upper 95% CI</th>\n",
              "      <th>Rate</th>\n",
              "    </tr>\n",
              "  </thead>\n",
              "  <tbody>\n",
              "    <tr>\n",
              "      <th>0</th>\n",
              "      <td>Amebiasis</td>\n",
              "      <td>ALAMEDA</td>\n",
              "      <td>2001</td>\n",
              "      <td>FEMALE</td>\n",
              "      <td>7.0</td>\n",
              "      <td>746596</td>\n",
              "      <td>0.377</td>\n",
              "      <td>1.932</td>\n",
              "      <td>0.938*</td>\n",
              "    </tr>\n",
              "    <tr>\n",
              "      <th>1</th>\n",
              "      <td>Amebiasis</td>\n",
              "      <td>ALAMEDA</td>\n",
              "      <td>2001</td>\n",
              "      <td>MALE</td>\n",
              "      <td>9.0</td>\n",
              "      <td>718968</td>\n",
              "      <td>0.572</td>\n",
              "      <td>2.376</td>\n",
              "      <td>1.252*</td>\n",
              "    </tr>\n",
              "    <tr>\n",
              "      <th>2</th>\n",
              "      <td>Amebiasis</td>\n",
              "      <td>ALAMEDA</td>\n",
              "      <td>2001</td>\n",
              "      <td>TOTAL</td>\n",
              "      <td>16.0</td>\n",
              "      <td>1465564</td>\n",
              "      <td>0.624</td>\n",
              "      <td>1.773</td>\n",
              "      <td>1.092*</td>\n",
              "    </tr>\n",
              "    <tr>\n",
              "      <th>3</th>\n",
              "      <td>Anaplasmosis and Ehrlichiosis</td>\n",
              "      <td>ALAMEDA</td>\n",
              "      <td>2001</td>\n",
              "      <td>FEMALE</td>\n",
              "      <td>0.0</td>\n",
              "      <td>746596</td>\n",
              "      <td>0.000</td>\n",
              "      <td>0.494</td>\n",
              "      <td>-</td>\n",
              "    </tr>\n",
              "    <tr>\n",
              "      <th>4</th>\n",
              "      <td>Anaplasmosis and Ehrlichiosis</td>\n",
              "      <td>ALAMEDA</td>\n",
              "      <td>2001</td>\n",
              "      <td>MALE</td>\n",
              "      <td>0.0</td>\n",
              "      <td>718968</td>\n",
              "      <td>0.000</td>\n",
              "      <td>0.513</td>\n",
              "      <td>-</td>\n",
              "    </tr>\n",
              "  </tbody>\n",
              "</table>\n",
              "</div>\n",
              "      <button class=\"colab-df-convert\" onclick=\"convertToInteractive('df-bd5dbb8a-068f-4769-82a2-9249c6f5f05b')\"\n",
              "              title=\"Convert this dataframe to an interactive table.\"\n",
              "              style=\"display:none;\">\n",
              "        \n",
              "  <svg xmlns=\"http://www.w3.org/2000/svg\" height=\"24px\"viewBox=\"0 0 24 24\"\n",
              "       width=\"24px\">\n",
              "    <path d=\"M0 0h24v24H0V0z\" fill=\"none\"/>\n",
              "    <path d=\"M18.56 5.44l.94 2.06.94-2.06 2.06-.94-2.06-.94-.94-2.06-.94 2.06-2.06.94zm-11 1L8.5 8.5l.94-2.06 2.06-.94-2.06-.94L8.5 2.5l-.94 2.06-2.06.94zm10 10l.94 2.06.94-2.06 2.06-.94-2.06-.94-.94-2.06-.94 2.06-2.06.94z\"/><path d=\"M17.41 7.96l-1.37-1.37c-.4-.4-.92-.59-1.43-.59-.52 0-1.04.2-1.43.59L10.3 9.45l-7.72 7.72c-.78.78-.78 2.05 0 2.83L4 21.41c.39.39.9.59 1.41.59.51 0 1.02-.2 1.41-.59l7.78-7.78 2.81-2.81c.8-.78.8-2.07 0-2.86zM5.41 20L4 18.59l7.72-7.72 1.47 1.35L5.41 20z\"/>\n",
              "  </svg>\n",
              "      </button>\n",
              "      \n",
              "  <style>\n",
              "    .colab-df-container {\n",
              "      display:flex;\n",
              "      flex-wrap:wrap;\n",
              "      gap: 12px;\n",
              "    }\n",
              "\n",
              "    .colab-df-convert {\n",
              "      background-color: #E8F0FE;\n",
              "      border: none;\n",
              "      border-radius: 50%;\n",
              "      cursor: pointer;\n",
              "      display: none;\n",
              "      fill: #1967D2;\n",
              "      height: 32px;\n",
              "      padding: 0 0 0 0;\n",
              "      width: 32px;\n",
              "    }\n",
              "\n",
              "    .colab-df-convert:hover {\n",
              "      background-color: #E2EBFA;\n",
              "      box-shadow: 0px 1px 2px rgba(60, 64, 67, 0.3), 0px 1px 3px 1px rgba(60, 64, 67, 0.15);\n",
              "      fill: #174EA6;\n",
              "    }\n",
              "\n",
              "    [theme=dark] .colab-df-convert {\n",
              "      background-color: #3B4455;\n",
              "      fill: #D2E3FC;\n",
              "    }\n",
              "\n",
              "    [theme=dark] .colab-df-convert:hover {\n",
              "      background-color: #434B5C;\n",
              "      box-shadow: 0px 1px 3px 1px rgba(0, 0, 0, 0.15);\n",
              "      filter: drop-shadow(0px 1px 2px rgba(0, 0, 0, 0.3));\n",
              "      fill: #FFFFFF;\n",
              "    }\n",
              "  </style>\n",
              "\n",
              "      <script>\n",
              "        const buttonEl =\n",
              "          document.querySelector('#df-bd5dbb8a-068f-4769-82a2-9249c6f5f05b button.colab-df-convert');\n",
              "        buttonEl.style.display =\n",
              "          google.colab.kernel.accessAllowed ? 'block' : 'none';\n",
              "\n",
              "        async function convertToInteractive(key) {\n",
              "          const element = document.querySelector('#df-bd5dbb8a-068f-4769-82a2-9249c6f5f05b');\n",
              "          const dataTable =\n",
              "            await google.colab.kernel.invokeFunction('convertToInteractive',\n",
              "                                                     [key], {});\n",
              "          if (!dataTable) return;\n",
              "\n",
              "          const docLinkHtml = 'Like what you see? Visit the ' +\n",
              "            '<a target=\"_blank\" href=https://colab.research.google.com/notebooks/data_table.ipynb>data table notebook</a>'\n",
              "            + ' to learn more about interactive tables.';\n",
              "          element.innerHTML = '';\n",
              "          dataTable['output_type'] = 'display_data';\n",
              "          await google.colab.output.renderOutput(dataTable, element);\n",
              "          const docLink = document.createElement('div');\n",
              "          docLink.innerHTML = docLinkHtml;\n",
              "          element.appendChild(docLink);\n",
              "        }\n",
              "      </script>\n",
              "    </div>\n",
              "  </div>\n",
              "  "
            ],
            "text/plain": [
              "                         Disease   County  Year     Sex  Cases  Population  \\\n",
              "0                      Amebiasis  ALAMEDA  2001  FEMALE    7.0      746596   \n",
              "1                      Amebiasis  ALAMEDA  2001    MALE    9.0      718968   \n",
              "2                      Amebiasis  ALAMEDA  2001   TOTAL   16.0     1465564   \n",
              "3  Anaplasmosis and Ehrlichiosis  ALAMEDA  2001  FEMALE    0.0      746596   \n",
              "4  Anaplasmosis and Ehrlichiosis  ALAMEDA  2001    MALE    0.0      718968   \n",
              "\n",
              "   Lower 95% CI  Upper 95% CI    Rate  \n",
              "0         0.377         1.932  0.938*  \n",
              "1         0.572         2.376  1.252*  \n",
              "2         0.624         1.773  1.092*  \n",
              "3         0.000         0.494       -  \n",
              "4         0.000         0.513       -  "
            ]
          },
          "execution_count": 77,
          "metadata": {},
          "output_type": "execute_result"
        }
      ],
      "source": [
        "data.head()"
      ]
    },
    {
      "cell_type": "code",
      "execution_count": null,
      "metadata": {
        "colab": {
          "base_uri": "https://localhost:8080/"
        },
        "id": "NACWFASI8qot",
        "outputId": "3f277aa7-0989-4ed8-a777-39972e7a194c"
      },
      "outputs": [
        {
          "data": {
            "text/plain": [
              "(154344, 9)"
            ]
          },
          "execution_count": 78,
          "metadata": {},
          "output_type": "execute_result"
        }
      ],
      "source": [
        "data.shape"
      ]
    },
    {
      "cell_type": "code",
      "execution_count": null,
      "metadata": {
        "colab": {
          "base_uri": "https://localhost:8080/"
        },
        "id": "citaLmrN8tyb",
        "outputId": "7e7f6064-28e0-41d7-ab73-56b52ee5637c"
      },
      "outputs": [
        {
          "name": "stdout",
          "output_type": "stream",
          "text": [
            "<class 'pandas.core.frame.DataFrame'>\n",
            "RangeIndex: 154344 entries, 0 to 154343\n",
            "Data columns (total 9 columns):\n",
            " #   Column        Non-Null Count   Dtype  \n",
            "---  ------        --------------   -----  \n",
            " 0   Disease       154344 non-null  object \n",
            " 1   County        154344 non-null  object \n",
            " 2   Year          154344 non-null  int64  \n",
            " 3   Sex           154344 non-null  object \n",
            " 4   Cases         150602 non-null  float64\n",
            " 5   Population    154344 non-null  int64  \n",
            " 6   Lower 95% CI  150083 non-null  float64\n",
            " 7   Upper 95% CI  150083 non-null  float64\n",
            " 8   Rate          154344 non-null  object \n",
            "dtypes: float64(3), int64(2), object(4)\n",
            "memory usage: 10.6+ MB\n"
          ]
        }
      ],
      "source": [
        "data.info()"
      ]
    },
    {
      "cell_type": "code",
      "execution_count": null,
      "metadata": {
        "colab": {
          "base_uri": "https://localhost:8080/"
        },
        "id": "k7qtYAxC8xUP",
        "outputId": "35c4c455-82e1-4e44-8f47-81482f5f2b31"
      },
      "outputs": [
        {
          "data": {
            "text/plain": [
              "Disease            0\n",
              "County             0\n",
              "Year               0\n",
              "Sex                0\n",
              "Cases           3742\n",
              "Population         0\n",
              "Lower 95% CI    4261\n",
              "Upper 95% CI    4261\n",
              "Rate               0\n",
              "dtype: int64"
            ]
          },
          "execution_count": 80,
          "metadata": {},
          "output_type": "execute_result"
        }
      ],
      "source": [
        "data.isnull().sum()"
      ]
    },
    {
      "cell_type": "code",
      "execution_count": null,
      "metadata": {
        "id": "NPlAR_Xx9e_K"
      },
      "outputs": [],
      "source": [
        "data['Lower 95% CI'].fillna(data['Lower 95% CI'].mean(), inplace=True)"
      ]
    },
    {
      "cell_type": "code",
      "execution_count": null,
      "metadata": {
        "colab": {
          "base_uri": "https://localhost:8080/"
        },
        "id": "Nt8_b9iL-P_T",
        "outputId": "435b5352-2aaf-4d0e-cf54-21fdedd50903"
      },
      "outputs": [
        {
          "data": {
            "text/plain": [
              "Disease            0\n",
              "County             0\n",
              "Year               0\n",
              "Sex                0\n",
              "Cases           3742\n",
              "Population         0\n",
              "Lower 95% CI       0\n",
              "Upper 95% CI    4261\n",
              "Rate               0\n",
              "dtype: int64"
            ]
          },
          "execution_count": 82,
          "metadata": {},
          "output_type": "execute_result"
        }
      ],
      "source": [
        "data.isnull().sum()"
      ]
    },
    {
      "cell_type": "code",
      "execution_count": null,
      "metadata": {
        "id": "k8W_FTa0-SF-"
      },
      "outputs": [],
      "source": [
        "data['Cases'].fillna(data['Cases'].mean(), inplace=True)"
      ]
    },
    {
      "cell_type": "code",
      "execution_count": null,
      "metadata": {
        "id": "Pe3WfzrKNT4d"
      },
      "outputs": [],
      "source": [
        "data['Upper 95% CI'].fillna(data['Upper 95% CI'].mean(), inplace=True)"
      ]
    },
    {
      "cell_type": "code",
      "execution_count": null,
      "metadata": {
        "colab": {
          "base_uri": "https://localhost:8080/"
        },
        "id": "3L-u2s-bNc9N",
        "outputId": "b162350c-a9a4-49f7-b5ac-869a95e8c0ca"
      },
      "outputs": [
        {
          "data": {
            "text/plain": [
              "Disease          object\n",
              "County           object\n",
              "Year              int64\n",
              "Sex              object\n",
              "Cases           float64\n",
              "Population        int64\n",
              "Lower 95% CI    float64\n",
              "Upper 95% CI    float64\n",
              "Rate             object\n",
              "dtype: object"
            ]
          },
          "execution_count": 85,
          "metadata": {},
          "output_type": "execute_result"
        }
      ],
      "source": [
        "data.dtypes"
      ]
    },
    {
      "cell_type": "code",
      "execution_count": null,
      "metadata": {
        "id": "bSZJGDuzN0z0"
      },
      "outputs": [],
      "source": [
        "encoder=LabelEncoder()"
      ]
    },
    {
      "cell_type": "code",
      "execution_count": null,
      "metadata": {
        "id": "HwALdyjXNeSU"
      },
      "outputs": [],
      "source": [
        "data['Rate'] = encoder.fit_transform(data['Rate'])"
      ]
    },
    {
      "cell_type": "code",
      "execution_count": null,
      "metadata": {
        "colab": {
          "base_uri": "https://localhost:8080/"
        },
        "id": "W7OriRJLN4Jt",
        "outputId": "2f589b2a-1e1a-42f5-9c18-7c2e6e45110e"
      },
      "outputs": [
        {
          "data": {
            "text/plain": [
              "Disease          object\n",
              "County           object\n",
              "Year              int64\n",
              "Sex              object\n",
              "Cases           float64\n",
              "Population        int64\n",
              "Lower 95% CI    float64\n",
              "Upper 95% CI    float64\n",
              "Rate              int64\n",
              "dtype: object"
            ]
          },
          "execution_count": 88,
          "metadata": {},
          "output_type": "execute_result"
        }
      ],
      "source": [
        "data.dtypes\n"
      ]
    },
    {
      "cell_type": "code",
      "execution_count": null,
      "metadata": {
        "colab": {
          "base_uri": "https://localhost:8080/"
        },
        "id": "JhNQTlskOKfI",
        "outputId": "9b20cb2d-a142-447a-ddb9-e6dc58812c13"
      },
      "outputs": [
        {
          "data": {
            "text/plain": [
              "array(['ALAMEDA', 'ALPINE', 'AMADOR', 'BUTTE', 'CALAVERAS', 'CALIFORNIA',\n",
              "       'COLUSA', 'CONTRA COSTA', 'DEL NORTE', 'EL DORADO', 'FRESNO',\n",
              "       'GLENN', 'HUMBOLDT', 'IMPERIAL', 'INYO', 'KERN', 'KINGS', 'LAKE',\n",
              "       'LASSEN', 'LOS ANGELES', 'MADERA', 'MARIN', 'MARIPOSA',\n",
              "       'MENDOCINO', 'MERCED', 'MODOC', 'MONO', 'MONTEREY', 'NAPA',\n",
              "       'NEVADA', 'ORANGE', 'PLACER', 'PLUMAS', 'RIVERSIDE', 'SACRAMENTO',\n",
              "       'SAN BENITO', 'SAN BERNARDINO', 'SAN DIEGO', 'SAN FRANCISCO',\n",
              "       'SAN JOAQUIN', 'SAN LUIS OBISPO', 'SAN MATEO', 'SANTA BARBARA',\n",
              "       'SANTA CLARA', 'SANTA CRUZ', 'SHASTA', 'SIERRA', 'SISKIYOU',\n",
              "       'SOLANO', 'SONOMA', 'STANISLAUS', 'SUTTER', 'TEHAMA', 'TRINITY',\n",
              "       'TULARE', 'TUOLUMNE', 'VENTURA', 'YOLO', 'YUBA'], dtype=object)"
            ]
          },
          "execution_count": 89,
          "metadata": {},
          "output_type": "execute_result"
        }
      ],
      "source": [
        "data['County'].unique()"
      ]
    },
    {
      "cell_type": "code",
      "execution_count": null,
      "metadata": {
        "id": "OGvTSJypOVAU"
      },
      "outputs": [],
      "source": [
        "data['Disease'] = encoder.fit_transform(data['Disease'])\n",
        "data['County'] = encoder.fit_transform(data['County'])\n",
        "data['Sex'] = encoder.fit_transform(data['Sex'])"
      ]
    },
    {
      "cell_type": "code",
      "execution_count": null,
      "metadata": {
        "colab": {
          "base_uri": "https://localhost:8080/",
          "height": 206
        },
        "id": "x-mfZpdQo733",
        "outputId": "ab19d727-a13d-4717-cdaf-ac3929ea813d"
      },
      "outputs": [
        {
          "data": {
            "text/html": [
              "\n",
              "  <div id=\"df-b7a105a7-8b58-4bbf-97b5-385a917a8b94\">\n",
              "    <div class=\"colab-df-container\">\n",
              "      <div>\n",
              "<style scoped>\n",
              "    .dataframe tbody tr th:only-of-type {\n",
              "        vertical-align: middle;\n",
              "    }\n",
              "\n",
              "    .dataframe tbody tr th {\n",
              "        vertical-align: top;\n",
              "    }\n",
              "\n",
              "    .dataframe thead th {\n",
              "        text-align: right;\n",
              "    }\n",
              "</style>\n",
              "<table border=\"1\" class=\"dataframe\">\n",
              "  <thead>\n",
              "    <tr style=\"text-align: right;\">\n",
              "      <th></th>\n",
              "      <th>Disease</th>\n",
              "      <th>County</th>\n",
              "      <th>Year</th>\n",
              "      <th>Sex</th>\n",
              "      <th>Cases</th>\n",
              "      <th>Population</th>\n",
              "      <th>Lower 95% CI</th>\n",
              "      <th>Upper 95% CI</th>\n",
              "      <th>Rate</th>\n",
              "    </tr>\n",
              "  </thead>\n",
              "  <tbody>\n",
              "    <tr>\n",
              "      <th>0</th>\n",
              "      <td>0</td>\n",
              "      <td>0</td>\n",
              "      <td>2001</td>\n",
              "      <td>0</td>\n",
              "      <td>7.0</td>\n",
              "      <td>746596</td>\n",
              "      <td>0.377</td>\n",
              "      <td>1.932</td>\n",
              "      <td>1486</td>\n",
              "    </tr>\n",
              "    <tr>\n",
              "      <th>1</th>\n",
              "      <td>0</td>\n",
              "      <td>0</td>\n",
              "      <td>2001</td>\n",
              "      <td>1</td>\n",
              "      <td>9.0</td>\n",
              "      <td>718968</td>\n",
              "      <td>0.572</td>\n",
              "      <td>2.376</td>\n",
              "      <td>1915</td>\n",
              "    </tr>\n",
              "    <tr>\n",
              "      <th>2</th>\n",
              "      <td>0</td>\n",
              "      <td>0</td>\n",
              "      <td>2001</td>\n",
              "      <td>2</td>\n",
              "      <td>16.0</td>\n",
              "      <td>1465564</td>\n",
              "      <td>0.624</td>\n",
              "      <td>1.773</td>\n",
              "      <td>1692</td>\n",
              "    </tr>\n",
              "    <tr>\n",
              "      <th>3</th>\n",
              "      <td>2</td>\n",
              "      <td>0</td>\n",
              "      <td>2001</td>\n",
              "      <td>0</td>\n",
              "      <td>0.0</td>\n",
              "      <td>746596</td>\n",
              "      <td>0.000</td>\n",
              "      <td>0.494</td>\n",
              "      <td>0</td>\n",
              "    </tr>\n",
              "    <tr>\n",
              "      <th>4</th>\n",
              "      <td>2</td>\n",
              "      <td>0</td>\n",
              "      <td>2001</td>\n",
              "      <td>1</td>\n",
              "      <td>0.0</td>\n",
              "      <td>718968</td>\n",
              "      <td>0.000</td>\n",
              "      <td>0.513</td>\n",
              "      <td>0</td>\n",
              "    </tr>\n",
              "  </tbody>\n",
              "</table>\n",
              "</div>\n",
              "      <button class=\"colab-df-convert\" onclick=\"convertToInteractive('df-b7a105a7-8b58-4bbf-97b5-385a917a8b94')\"\n",
              "              title=\"Convert this dataframe to an interactive table.\"\n",
              "              style=\"display:none;\">\n",
              "        \n",
              "  <svg xmlns=\"http://www.w3.org/2000/svg\" height=\"24px\"viewBox=\"0 0 24 24\"\n",
              "       width=\"24px\">\n",
              "    <path d=\"M0 0h24v24H0V0z\" fill=\"none\"/>\n",
              "    <path d=\"M18.56 5.44l.94 2.06.94-2.06 2.06-.94-2.06-.94-.94-2.06-.94 2.06-2.06.94zm-11 1L8.5 8.5l.94-2.06 2.06-.94-2.06-.94L8.5 2.5l-.94 2.06-2.06.94zm10 10l.94 2.06.94-2.06 2.06-.94-2.06-.94-.94-2.06-.94 2.06-2.06.94z\"/><path d=\"M17.41 7.96l-1.37-1.37c-.4-.4-.92-.59-1.43-.59-.52 0-1.04.2-1.43.59L10.3 9.45l-7.72 7.72c-.78.78-.78 2.05 0 2.83L4 21.41c.39.39.9.59 1.41.59.51 0 1.02-.2 1.41-.59l7.78-7.78 2.81-2.81c.8-.78.8-2.07 0-2.86zM5.41 20L4 18.59l7.72-7.72 1.47 1.35L5.41 20z\"/>\n",
              "  </svg>\n",
              "      </button>\n",
              "      \n",
              "  <style>\n",
              "    .colab-df-container {\n",
              "      display:flex;\n",
              "      flex-wrap:wrap;\n",
              "      gap: 12px;\n",
              "    }\n",
              "\n",
              "    .colab-df-convert {\n",
              "      background-color: #E8F0FE;\n",
              "      border: none;\n",
              "      border-radius: 50%;\n",
              "      cursor: pointer;\n",
              "      display: none;\n",
              "      fill: #1967D2;\n",
              "      height: 32px;\n",
              "      padding: 0 0 0 0;\n",
              "      width: 32px;\n",
              "    }\n",
              "\n",
              "    .colab-df-convert:hover {\n",
              "      background-color: #E2EBFA;\n",
              "      box-shadow: 0px 1px 2px rgba(60, 64, 67, 0.3), 0px 1px 3px 1px rgba(60, 64, 67, 0.15);\n",
              "      fill: #174EA6;\n",
              "    }\n",
              "\n",
              "    [theme=dark] .colab-df-convert {\n",
              "      background-color: #3B4455;\n",
              "      fill: #D2E3FC;\n",
              "    }\n",
              "\n",
              "    [theme=dark] .colab-df-convert:hover {\n",
              "      background-color: #434B5C;\n",
              "      box-shadow: 0px 1px 3px 1px rgba(0, 0, 0, 0.15);\n",
              "      filter: drop-shadow(0px 1px 2px rgba(0, 0, 0, 0.3));\n",
              "      fill: #FFFFFF;\n",
              "    }\n",
              "  </style>\n",
              "\n",
              "      <script>\n",
              "        const buttonEl =\n",
              "          document.querySelector('#df-b7a105a7-8b58-4bbf-97b5-385a917a8b94 button.colab-df-convert');\n",
              "        buttonEl.style.display =\n",
              "          google.colab.kernel.accessAllowed ? 'block' : 'none';\n",
              "\n",
              "        async function convertToInteractive(key) {\n",
              "          const element = document.querySelector('#df-b7a105a7-8b58-4bbf-97b5-385a917a8b94');\n",
              "          const dataTable =\n",
              "            await google.colab.kernel.invokeFunction('convertToInteractive',\n",
              "                                                     [key], {});\n",
              "          if (!dataTable) return;\n",
              "\n",
              "          const docLinkHtml = 'Like what you see? Visit the ' +\n",
              "            '<a target=\"_blank\" href=https://colab.research.google.com/notebooks/data_table.ipynb>data table notebook</a>'\n",
              "            + ' to learn more about interactive tables.';\n",
              "          element.innerHTML = '';\n",
              "          dataTable['output_type'] = 'display_data';\n",
              "          await google.colab.output.renderOutput(dataTable, element);\n",
              "          const docLink = document.createElement('div');\n",
              "          docLink.innerHTML = docLinkHtml;\n",
              "          element.appendChild(docLink);\n",
              "        }\n",
              "      </script>\n",
              "    </div>\n",
              "  </div>\n",
              "  "
            ],
            "text/plain": [
              "   Disease  County  Year  Sex  Cases  Population  Lower 95% CI  Upper 95% CI  \\\n",
              "0        0       0  2001    0    7.0      746596         0.377         1.932   \n",
              "1        0       0  2001    1    9.0      718968         0.572         2.376   \n",
              "2        0       0  2001    2   16.0     1465564         0.624         1.773   \n",
              "3        2       0  2001    0    0.0      746596         0.000         0.494   \n",
              "4        2       0  2001    1    0.0      718968         0.000         0.513   \n",
              "\n",
              "   Rate  \n",
              "0  1486  \n",
              "1  1915  \n",
              "2  1692  \n",
              "3     0  \n",
              "4     0  "
            ]
          },
          "execution_count": 107,
          "metadata": {},
          "output_type": "execute_result"
        }
      ],
      "source": [
        "data.head()"
      ]
    },
    {
      "cell_type": "code",
      "execution_count": null,
      "metadata": {
        "id": "JlTnMU60o708"
      },
      "outputs": [],
      "source": []
    },
    {
      "cell_type": "code",
      "execution_count": null,
      "metadata": {
        "colab": {
          "base_uri": "https://localhost:8080/"
        },
        "id": "6nzLZ2w9lW09",
        "outputId": "555bc66d-8fb8-4236-dfba-3776b963a093"
      },
      "outputs": [
        {
          "data": {
            "text/plain": [
              "Disease           int64\n",
              "County            int64\n",
              "Year              int64\n",
              "Sex               int64\n",
              "Cases           float64\n",
              "Population        int64\n",
              "Lower 95% CI    float64\n",
              "Upper 95% CI    float64\n",
              "Rate              int64\n",
              "dtype: object"
            ]
          },
          "execution_count": 91,
          "metadata": {},
          "output_type": "execute_result"
        }
      ],
      "source": [
        "data.dtypes"
      ]
    },
    {
      "cell_type": "code",
      "execution_count": null,
      "metadata": {
        "colab": {
          "base_uri": "https://localhost:8080/"
        },
        "id": "aHCDwxc1nFK3",
        "outputId": "ea217bc1-7916-43b3-b1f4-4a6a9997813b"
      },
      "outputs": [
        {
          "data": {
            "text/plain": [
              "Disease         0\n",
              "County          0\n",
              "Year            0\n",
              "Sex             0\n",
              "Cases           0\n",
              "Population      0\n",
              "Lower 95% CI    0\n",
              "Upper 95% CI    0\n",
              "Rate            0\n",
              "dtype: int64"
            ]
          },
          "execution_count": 92,
          "metadata": {},
          "output_type": "execute_result"
        }
      ],
      "source": [
        "data.isnull().sum()"
      ]
    },
    {
      "cell_type": "code",
      "execution_count": null,
      "metadata": {
        "id": "kKFsGy1Clj21"
      },
      "outputs": [],
      "source": [
        "X =data.drop(columns='Rate', axis=1)\n",
        "Y =data['Rate']"
      ]
    },
    {
      "cell_type": "code",
      "execution_count": null,
      "metadata": {
        "colab": {
          "base_uri": "https://localhost:8080/",
          "height": 424
        },
        "id": "nbAsx659mDnF",
        "outputId": "6ff7a34f-b343-42df-ce7d-13d80fa2113e"
      },
      "outputs": [
        {
          "data": {
            "text/html": [
              "\n",
              "  <div id=\"df-838635ec-faf0-4bd1-87db-1419b38088d9\">\n",
              "    <div class=\"colab-df-container\">\n",
              "      <div>\n",
              "<style scoped>\n",
              "    .dataframe tbody tr th:only-of-type {\n",
              "        vertical-align: middle;\n",
              "    }\n",
              "\n",
              "    .dataframe tbody tr th {\n",
              "        vertical-align: top;\n",
              "    }\n",
              "\n",
              "    .dataframe thead th {\n",
              "        text-align: right;\n",
              "    }\n",
              "</style>\n",
              "<table border=\"1\" class=\"dataframe\">\n",
              "  <thead>\n",
              "    <tr style=\"text-align: right;\">\n",
              "      <th></th>\n",
              "      <th>Disease</th>\n",
              "      <th>County</th>\n",
              "      <th>Year</th>\n",
              "      <th>Sex</th>\n",
              "      <th>Cases</th>\n",
              "      <th>Population</th>\n",
              "      <th>Lower 95% CI</th>\n",
              "      <th>Upper 95% CI</th>\n",
              "    </tr>\n",
              "  </thead>\n",
              "  <tbody>\n",
              "    <tr>\n",
              "      <th>0</th>\n",
              "      <td>0</td>\n",
              "      <td>0</td>\n",
              "      <td>2001</td>\n",
              "      <td>0</td>\n",
              "      <td>7.0</td>\n",
              "      <td>746596</td>\n",
              "      <td>0.377</td>\n",
              "      <td>1.932</td>\n",
              "    </tr>\n",
              "    <tr>\n",
              "      <th>1</th>\n",
              "      <td>0</td>\n",
              "      <td>0</td>\n",
              "      <td>2001</td>\n",
              "      <td>1</td>\n",
              "      <td>9.0</td>\n",
              "      <td>718968</td>\n",
              "      <td>0.572</td>\n",
              "      <td>2.376</td>\n",
              "    </tr>\n",
              "    <tr>\n",
              "      <th>2</th>\n",
              "      <td>0</td>\n",
              "      <td>0</td>\n",
              "      <td>2001</td>\n",
              "      <td>2</td>\n",
              "      <td>16.0</td>\n",
              "      <td>1465564</td>\n",
              "      <td>0.624</td>\n",
              "      <td>1.773</td>\n",
              "    </tr>\n",
              "    <tr>\n",
              "      <th>3</th>\n",
              "      <td>2</td>\n",
              "      <td>0</td>\n",
              "      <td>2001</td>\n",
              "      <td>0</td>\n",
              "      <td>0.0</td>\n",
              "      <td>746596</td>\n",
              "      <td>0.000</td>\n",
              "      <td>0.494</td>\n",
              "    </tr>\n",
              "    <tr>\n",
              "      <th>4</th>\n",
              "      <td>2</td>\n",
              "      <td>0</td>\n",
              "      <td>2001</td>\n",
              "      <td>1</td>\n",
              "      <td>0.0</td>\n",
              "      <td>718968</td>\n",
              "      <td>0.000</td>\n",
              "      <td>0.513</td>\n",
              "    </tr>\n",
              "    <tr>\n",
              "      <th>...</th>\n",
              "      <td>...</td>\n",
              "      <td>...</td>\n",
              "      <td>...</td>\n",
              "      <td>...</td>\n",
              "      <td>...</td>\n",
              "      <td>...</td>\n",
              "      <td>...</td>\n",
              "      <td>...</td>\n",
              "    </tr>\n",
              "    <tr>\n",
              "      <th>154339</th>\n",
              "      <td>56</td>\n",
              "      <td>58</td>\n",
              "      <td>2018</td>\n",
              "      <td>1</td>\n",
              "      <td>0.0</td>\n",
              "      <td>38838</td>\n",
              "      <td>0.000</td>\n",
              "      <td>9.498</td>\n",
              "    </tr>\n",
              "    <tr>\n",
              "      <th>154340</th>\n",
              "      <td>56</td>\n",
              "      <td>58</td>\n",
              "      <td>2018</td>\n",
              "      <td>2</td>\n",
              "      <td>0.0</td>\n",
              "      <td>77494</td>\n",
              "      <td>0.000</td>\n",
              "      <td>4.760</td>\n",
              "    </tr>\n",
              "    <tr>\n",
              "      <th>154341</th>\n",
              "      <td>57</td>\n",
              "      <td>58</td>\n",
              "      <td>2018</td>\n",
              "      <td>0</td>\n",
              "      <td>0.0</td>\n",
              "      <td>38656</td>\n",
              "      <td>0.000</td>\n",
              "      <td>9.542</td>\n",
              "    </tr>\n",
              "    <tr>\n",
              "      <th>154342</th>\n",
              "      <td>57</td>\n",
              "      <td>58</td>\n",
              "      <td>2018</td>\n",
              "      <td>1</td>\n",
              "      <td>0.0</td>\n",
              "      <td>38838</td>\n",
              "      <td>0.000</td>\n",
              "      <td>9.498</td>\n",
              "    </tr>\n",
              "    <tr>\n",
              "      <th>154343</th>\n",
              "      <td>57</td>\n",
              "      <td>58</td>\n",
              "      <td>2018</td>\n",
              "      <td>2</td>\n",
              "      <td>0.0</td>\n",
              "      <td>77494</td>\n",
              "      <td>0.000</td>\n",
              "      <td>4.760</td>\n",
              "    </tr>\n",
              "  </tbody>\n",
              "</table>\n",
              "<p>154344 rows × 8 columns</p>\n",
              "</div>\n",
              "      <button class=\"colab-df-convert\" onclick=\"convertToInteractive('df-838635ec-faf0-4bd1-87db-1419b38088d9')\"\n",
              "              title=\"Convert this dataframe to an interactive table.\"\n",
              "              style=\"display:none;\">\n",
              "        \n",
              "  <svg xmlns=\"http://www.w3.org/2000/svg\" height=\"24px\"viewBox=\"0 0 24 24\"\n",
              "       width=\"24px\">\n",
              "    <path d=\"M0 0h24v24H0V0z\" fill=\"none\"/>\n",
              "    <path d=\"M18.56 5.44l.94 2.06.94-2.06 2.06-.94-2.06-.94-.94-2.06-.94 2.06-2.06.94zm-11 1L8.5 8.5l.94-2.06 2.06-.94-2.06-.94L8.5 2.5l-.94 2.06-2.06.94zm10 10l.94 2.06.94-2.06 2.06-.94-2.06-.94-.94-2.06-.94 2.06-2.06.94z\"/><path d=\"M17.41 7.96l-1.37-1.37c-.4-.4-.92-.59-1.43-.59-.52 0-1.04.2-1.43.59L10.3 9.45l-7.72 7.72c-.78.78-.78 2.05 0 2.83L4 21.41c.39.39.9.59 1.41.59.51 0 1.02-.2 1.41-.59l7.78-7.78 2.81-2.81c.8-.78.8-2.07 0-2.86zM5.41 20L4 18.59l7.72-7.72 1.47 1.35L5.41 20z\"/>\n",
              "  </svg>\n",
              "      </button>\n",
              "      \n",
              "  <style>\n",
              "    .colab-df-container {\n",
              "      display:flex;\n",
              "      flex-wrap:wrap;\n",
              "      gap: 12px;\n",
              "    }\n",
              "\n",
              "    .colab-df-convert {\n",
              "      background-color: #E8F0FE;\n",
              "      border: none;\n",
              "      border-radius: 50%;\n",
              "      cursor: pointer;\n",
              "      display: none;\n",
              "      fill: #1967D2;\n",
              "      height: 32px;\n",
              "      padding: 0 0 0 0;\n",
              "      width: 32px;\n",
              "    }\n",
              "\n",
              "    .colab-df-convert:hover {\n",
              "      background-color: #E2EBFA;\n",
              "      box-shadow: 0px 1px 2px rgba(60, 64, 67, 0.3), 0px 1px 3px 1px rgba(60, 64, 67, 0.15);\n",
              "      fill: #174EA6;\n",
              "    }\n",
              "\n",
              "    [theme=dark] .colab-df-convert {\n",
              "      background-color: #3B4455;\n",
              "      fill: #D2E3FC;\n",
              "    }\n",
              "\n",
              "    [theme=dark] .colab-df-convert:hover {\n",
              "      background-color: #434B5C;\n",
              "      box-shadow: 0px 1px 3px 1px rgba(0, 0, 0, 0.15);\n",
              "      filter: drop-shadow(0px 1px 2px rgba(0, 0, 0, 0.3));\n",
              "      fill: #FFFFFF;\n",
              "    }\n",
              "  </style>\n",
              "\n",
              "      <script>\n",
              "        const buttonEl =\n",
              "          document.querySelector('#df-838635ec-faf0-4bd1-87db-1419b38088d9 button.colab-df-convert');\n",
              "        buttonEl.style.display =\n",
              "          google.colab.kernel.accessAllowed ? 'block' : 'none';\n",
              "\n",
              "        async function convertToInteractive(key) {\n",
              "          const element = document.querySelector('#df-838635ec-faf0-4bd1-87db-1419b38088d9');\n",
              "          const dataTable =\n",
              "            await google.colab.kernel.invokeFunction('convertToInteractive',\n",
              "                                                     [key], {});\n",
              "          if (!dataTable) return;\n",
              "\n",
              "          const docLinkHtml = 'Like what you see? Visit the ' +\n",
              "            '<a target=\"_blank\" href=https://colab.research.google.com/notebooks/data_table.ipynb>data table notebook</a>'\n",
              "            + ' to learn more about interactive tables.';\n",
              "          element.innerHTML = '';\n",
              "          dataTable['output_type'] = 'display_data';\n",
              "          await google.colab.output.renderOutput(dataTable, element);\n",
              "          const docLink = document.createElement('div');\n",
              "          docLink.innerHTML = docLinkHtml;\n",
              "          element.appendChild(docLink);\n",
              "        }\n",
              "      </script>\n",
              "    </div>\n",
              "  </div>\n",
              "  "
            ],
            "text/plain": [
              "        Disease  County  Year  Sex  Cases  Population  Lower 95% CI  \\\n",
              "0             0       0  2001    0    7.0      746596         0.377   \n",
              "1             0       0  2001    1    9.0      718968         0.572   \n",
              "2             0       0  2001    2   16.0     1465564         0.624   \n",
              "3             2       0  2001    0    0.0      746596         0.000   \n",
              "4             2       0  2001    1    0.0      718968         0.000   \n",
              "...         ...     ...   ...  ...    ...         ...           ...   \n",
              "154339       56      58  2018    1    0.0       38838         0.000   \n",
              "154340       56      58  2018    2    0.0       77494         0.000   \n",
              "154341       57      58  2018    0    0.0       38656         0.000   \n",
              "154342       57      58  2018    1    0.0       38838         0.000   \n",
              "154343       57      58  2018    2    0.0       77494         0.000   \n",
              "\n",
              "        Upper 95% CI  \n",
              "0              1.932  \n",
              "1              2.376  \n",
              "2              1.773  \n",
              "3              0.494  \n",
              "4              0.513  \n",
              "...              ...  \n",
              "154339         9.498  \n",
              "154340         4.760  \n",
              "154341         9.542  \n",
              "154342         9.498  \n",
              "154343         4.760  \n",
              "\n",
              "[154344 rows x 8 columns]"
            ]
          },
          "execution_count": 94,
          "metadata": {},
          "output_type": "execute_result"
        }
      ],
      "source": [
        "X"
      ]
    },
    {
      "cell_type": "code",
      "execution_count": null,
      "metadata": {
        "colab": {
          "base_uri": "https://localhost:8080/"
        },
        "id": "AR_14OyYmEbt",
        "outputId": "35aee52b-3923-4c75-9630-6dffc7f85e80"
      },
      "outputs": [
        {
          "data": {
            "text/plain": [
              "0         1486\n",
              "1         1915\n",
              "2         1692\n",
              "3            0\n",
              "4            0\n",
              "          ... \n",
              "154339       0\n",
              "154340       0\n",
              "154341       0\n",
              "154342       0\n",
              "154343       0\n",
              "Name: Rate, Length: 154344, dtype: int64"
            ]
          },
          "execution_count": 95,
          "metadata": {},
          "output_type": "execute_result"
        }
      ],
      "source": [
        "Y"
      ]
    },
    {
      "cell_type": "code",
      "execution_count": null,
      "metadata": {
        "id": "rCD2quEgmGI3"
      },
      "outputs": [],
      "source": [
        "X_train, X_test, Y_train, Y_test = train_test_split(X, Y, test_size=0.2, random_state=2)"
      ]
    },
    {
      "cell_type": "code",
      "execution_count": null,
      "metadata": {
        "colab": {
          "base_uri": "https://localhost:8080/"
        },
        "id": "0e6yiT8UmLOI",
        "outputId": "8caa4bcd-2f8d-4838-b738-b12581ccdc4f"
      },
      "outputs": [
        {
          "name": "stdout",
          "output_type": "stream",
          "text": [
            "(154344, 8) (123475, 8) (30869, 8)\n"
          ]
        }
      ],
      "source": [
        "print(X.shape, X_train.shape, X_test.shape)"
      ]
    },
    {
      "cell_type": "code",
      "execution_count": null,
      "metadata": {
        "id": "fPk8ejL7mS8_"
      },
      "outputs": [],
      "source": [
        "model = RandomForestRegressor()"
      ]
    },
    {
      "cell_type": "code",
      "execution_count": null,
      "metadata": {
        "colab": {
          "base_uri": "https://localhost:8080/",
          "height": 75
        },
        "id": "aGV7k5BlmwAO",
        "outputId": "ba27d749-553d-4be5-8018-a6edf25a1f22"
      },
      "outputs": [
        {
          "data": {
            "text/html": [
              "<style>#sk-container-id-2 {color: black;background-color: white;}#sk-container-id-2 pre{padding: 0;}#sk-container-id-2 div.sk-toggleable {background-color: white;}#sk-container-id-2 label.sk-toggleable__label {cursor: pointer;display: block;width: 100%;margin-bottom: 0;padding: 0.3em;box-sizing: border-box;text-align: center;}#sk-container-id-2 label.sk-toggleable__label-arrow:before {content: \"▸\";float: left;margin-right: 0.25em;color: #696969;}#sk-container-id-2 label.sk-toggleable__label-arrow:hover:before {color: black;}#sk-container-id-2 div.sk-estimator:hover label.sk-toggleable__label-arrow:before {color: black;}#sk-container-id-2 div.sk-toggleable__content {max-height: 0;max-width: 0;overflow: hidden;text-align: left;background-color: #f0f8ff;}#sk-container-id-2 div.sk-toggleable__content pre {margin: 0.2em;color: black;border-radius: 0.25em;background-color: #f0f8ff;}#sk-container-id-2 input.sk-toggleable__control:checked~div.sk-toggleable__content {max-height: 200px;max-width: 100%;overflow: auto;}#sk-container-id-2 input.sk-toggleable__control:checked~label.sk-toggleable__label-arrow:before {content: \"▾\";}#sk-container-id-2 div.sk-estimator input.sk-toggleable__control:checked~label.sk-toggleable__label {background-color: #d4ebff;}#sk-container-id-2 div.sk-label input.sk-toggleable__control:checked~label.sk-toggleable__label {background-color: #d4ebff;}#sk-container-id-2 input.sk-hidden--visually {border: 0;clip: rect(1px 1px 1px 1px);clip: rect(1px, 1px, 1px, 1px);height: 1px;margin: -1px;overflow: hidden;padding: 0;position: absolute;width: 1px;}#sk-container-id-2 div.sk-estimator {font-family: monospace;background-color: #f0f8ff;border: 1px dotted black;border-radius: 0.25em;box-sizing: border-box;margin-bottom: 0.5em;}#sk-container-id-2 div.sk-estimator:hover {background-color: #d4ebff;}#sk-container-id-2 div.sk-parallel-item::after {content: \"\";width: 100%;border-bottom: 1px solid gray;flex-grow: 1;}#sk-container-id-2 div.sk-label:hover label.sk-toggleable__label {background-color: #d4ebff;}#sk-container-id-2 div.sk-serial::before {content: \"\";position: absolute;border-left: 1px solid gray;box-sizing: border-box;top: 0;bottom: 0;left: 50%;z-index: 0;}#sk-container-id-2 div.sk-serial {display: flex;flex-direction: column;align-items: center;background-color: white;padding-right: 0.2em;padding-left: 0.2em;position: relative;}#sk-container-id-2 div.sk-item {position: relative;z-index: 1;}#sk-container-id-2 div.sk-parallel {display: flex;align-items: stretch;justify-content: center;background-color: white;position: relative;}#sk-container-id-2 div.sk-item::before, #sk-container-id-2 div.sk-parallel-item::before {content: \"\";position: absolute;border-left: 1px solid gray;box-sizing: border-box;top: 0;bottom: 0;left: 50%;z-index: -1;}#sk-container-id-2 div.sk-parallel-item {display: flex;flex-direction: column;z-index: 1;position: relative;background-color: white;}#sk-container-id-2 div.sk-parallel-item:first-child::after {align-self: flex-end;width: 50%;}#sk-container-id-2 div.sk-parallel-item:last-child::after {align-self: flex-start;width: 50%;}#sk-container-id-2 div.sk-parallel-item:only-child::after {width: 0;}#sk-container-id-2 div.sk-dashed-wrapped {border: 1px dashed gray;margin: 0 0.4em 0.5em 0.4em;box-sizing: border-box;padding-bottom: 0.4em;background-color: white;}#sk-container-id-2 div.sk-label label {font-family: monospace;font-weight: bold;display: inline-block;line-height: 1.2em;}#sk-container-id-2 div.sk-label-container {text-align: center;}#sk-container-id-2 div.sk-container {/* jupyter's `normalize.less` sets `[hidden] { display: none; }` but bootstrap.min.css set `[hidden] { display: none !important; }` so we also need the `!important` here to be able to override the default hidden behavior on the sphinx rendered scikit-learn.org. See: https://github.com/scikit-learn/scikit-learn/issues/21755 */display: inline-block !important;position: relative;}#sk-container-id-2 div.sk-text-repr-fallback {display: none;}</style><div id=\"sk-container-id-2\" class=\"sk-top-container\"><div class=\"sk-text-repr-fallback\"><pre>RandomForestRegressor()</pre><b>In a Jupyter environment, please rerun this cell to show the HTML representation or trust the notebook. <br />On GitHub, the HTML representation is unable to render, please try loading this page with nbviewer.org.</b></div><div class=\"sk-container\" hidden><div class=\"sk-item\"><div class=\"sk-estimator sk-toggleable\"><input class=\"sk-toggleable__control sk-hidden--visually\" id=\"sk-estimator-id-2\" type=\"checkbox\" checked><label for=\"sk-estimator-id-2\" class=\"sk-toggleable__label sk-toggleable__label-arrow\">RandomForestRegressor</label><div class=\"sk-toggleable__content\"><pre>RandomForestRegressor()</pre></div></div></div></div></div>"
            ],
            "text/plain": [
              "RandomForestRegressor()"
            ]
          },
          "execution_count": 99,
          "metadata": {},
          "output_type": "execute_result"
        }
      ],
      "source": [
        "model.fit(X_train, Y_train)"
      ]
    },
    {
      "cell_type": "code",
      "execution_count": null,
      "metadata": {
        "colab": {
          "base_uri": "https://localhost:8080/"
        },
        "id": "iSNdhQR-myA5",
        "outputId": "4d12c640-1294-4ecc-c9d3-1ee01a7687ea"
      },
      "outputs": [
        {
          "name": "stdout",
          "output_type": "stream",
          "text": [
            "Accuracy on Training data :  0.9995956212203407\n"
          ]
        }
      ],
      "source": [
        "X_train_prediction = model.predict(X_train)\n",
        "training_data_accuracy = r2_score(X_train_prediction, Y_train)\n",
        "print('Accuracy on Training data : ', training_data_accuracy)"
      ]
    },
    {
      "cell_type": "code",
      "execution_count": null,
      "metadata": {
        "colab": {
          "base_uri": "https://localhost:8080/"
        },
        "id": "__KG2jtino5N",
        "outputId": "6da82a67-c455-40af-c2c5-6266e18ad2c2"
      },
      "outputs": [
        {
          "name": "stdout",
          "output_type": "stream",
          "text": [
            "Accuracy on Test data :  0.9983804484726693\n"
          ]
        }
      ],
      "source": [
        "X_test_prediction = model.predict(X_test)\n",
        "test_data_accuracy = r2_score(X_test_prediction, Y_test)\n",
        "print('Accuracy on Test data : ', test_data_accuracy)"
      ]
    },
    {
      "cell_type": "code",
      "execution_count": null,
      "metadata": {
        "id": "YPy4DY_ioyPA"
      },
      "outputs": [],
      "source": []
    }
  ],
  "metadata": {
    "colab": {
      "provenance": []
    },
    "kernelspec": {
      "display_name": "Python 3",
      "name": "python3"
    },
    "language_info": {
      "name": "python",
      "version": "3.12.2"
    }
  },
  "nbformat": 4,
  "nbformat_minor": 0
}
